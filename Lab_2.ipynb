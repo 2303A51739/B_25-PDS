{
  "nbformat": 4,
  "nbformat_minor": 0,
  "metadata": {
    "colab": {
      "provenance": [],
      "authorship_tag": "ABX9TyNW4pUuhNee5H2kLb+rbmQH",
      "include_colab_link": true
    },
    "kernelspec": {
      "name": "python3",
      "display_name": "Python 3"
    },
    "language_info": {
      "name": "python"
    }
  },
  "cells": [
    {
      "cell_type": "markdown",
      "metadata": {
        "id": "view-in-github",
        "colab_type": "text"
      },
      "source": [
        "<a href=\"https://colab.research.google.com/github/2303A51739/B_25-PDS/blob/main/Lab_2.ipynb\" target=\"_parent\"><img src=\"https://colab.research.google.com/assets/colab-badge.svg\" alt=\"Open In Colab\"/></a>"
      ]
    },
    {
      "cell_type": "code",
      "execution_count": null,
      "metadata": {
        "id": "WvxpcgUp_MnX"
      },
      "outputs": [],
      "source": [
        "import numpy as np\n",
        "import pandas as pd"
      ]
    },
    {
      "cell_type": "code",
      "source": [
        "monthly_temps=np.array([15.5, 16.8, 20.1, 25.3, 30.5, 33.0, 32.0, 31.4, 28.8, 22.5, 18.0, 16.0])"
      ],
      "metadata": {
        "id": "itRdtAAE_ZwL"
      },
      "execution_count": null,
      "outputs": []
    },
    {
      "cell_type": "code",
      "source": [
        "hottest_month = np.argmax(monthly_temps) + 1\n",
        "coldest_month = np.argmin(monthly_temps) + 1\n",
        "print(\"hottest month is: \",hottest_month)\n",
        "print(\"coldest month is: \",coldest_month)"
      ],
      "metadata": {
        "colab": {
          "base_uri": "https://localhost:8080/"
        },
        "id": "oqfI5isD_eW8",
        "outputId": "12bf4b97-8f86-4a5c-d5aa-4450eb37df59"
      },
      "execution_count": null,
      "outputs": [
        {
          "output_type": "stream",
          "name": "stdout",
          "text": [
            "hottest month is:  6\n",
            "coldest month is:  1\n"
          ]
        }
      ]
    },
    {
      "cell_type": "code",
      "source": [
        "normalized_temps = (monthly_temps - np.min(monthly_temps)) / (np.max(monthly_temps) - np.min(monthly_temps))\n",
        "print(\"normalised temparature are:\",normalized_temps)"
      ],
      "metadata": {
        "colab": {
          "base_uri": "https://localhost:8080/"
        },
        "id": "jRk0jQ2C_lVT",
        "outputId": "cb2a3614-3c55-41b0-8737-b8180d5774f1"
      },
      "execution_count": null,
      "outputs": [
        {
          "output_type": "stream",
          "name": "stdout",
          "text": [
            "normalised temparature are: [0.         0.07428571 0.26285714 0.56       0.85714286 1.\n",
            " 0.94285714 0.90857143 0.76       0.4        0.14285714 0.02857143]\n"
          ]
        }
      ]
    },
    {
      "cell_type": "code",
      "source": [
        "monthly_temps_f = monthly_temps * 9/5 + 32\n",
        "print(monthly_temps_f)"
      ],
      "metadata": {
        "colab": {
          "base_uri": "https://localhost:8080/"
        },
        "id": "IAHllACk_rjN",
        "outputId": "e3862a6d-9833-4a3e-f2e3-9c2895c5bc5c"
      },
      "execution_count": null,
      "outputs": [
        {
          "output_type": "stream",
          "name": "stdout",
          "text": [
            "[59.9  62.24 68.18 77.54 86.9  91.4  89.6  88.52 83.84 72.5  64.4  60.8 ]\n"
          ]
        }
      ]
    },
    {
      "cell_type": "code",
      "metadata": {
        "colab": {
          "base_uri": "https://localhost:8080/"
        },
        "id": "f3ab5a41",
        "outputId": "c1627546-02fa-485a-d242-0db9a19189d9"
      },
      "source": [
        "average_temp = np.mean(monthly_temps)\n",
        "print(\"average temperature is: \",average_temp)"
      ],
      "execution_count": null,
      "outputs": [
        {
          "output_type": "stream",
          "name": "stdout",
          "text": [
            "average temperature is:  24.158333333333335\n"
          ]
        }
      ]
    }
  ]
}