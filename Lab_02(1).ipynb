{
  "nbformat": 4,
  "nbformat_minor": 0,
  "metadata": {
    "colab": {
      "provenance": [],
      "authorship_tag": "ABX9TyOb2ExAYwg62l0gAxLfMW2a",
      "include_colab_link": true
    },
    "kernelspec": {
      "name": "python3",
      "display_name": "Python 3"
    },
    "language_info": {
      "name": "python"
    }
  },
  "cells": [
    {
      "cell_type": "markdown",
      "metadata": {
        "id": "view-in-github",
        "colab_type": "text"
      },
      "source": [
        "<a href=\"https://colab.research.google.com/github/2303A51739/B_25-PDS/blob/main/Lab_02(1).ipynb\" target=\"_parent\"><img src=\"https://colab.research.google.com/assets/colab-badge.svg\" alt=\"Open In Colab\"/></a>"
      ]
    },
    {
      "cell_type": "code",
      "execution_count": 1,
      "metadata": {
        "id": "KZjWKQ-rKKiy"
      },
      "outputs": [],
      "source": [
        "import numpy as np\n",
        "import pandas as pd"
      ]
    },
    {
      "cell_type": "code",
      "source": [
        "data = {\n",
        "    'Order ID': [101, 102, 103, 104, 105],\n",
        "    'Product': ['Laptop', 'Mouse', 'Keyboard', 'Monitor','CPU'],\n",
        "    'Quantity': [1, 5, 3, 2, 1],\n",
        "    'Price': [75000, 500, 1500, 12000,20000]\n",
        "}\n",
        "\n",
        "df = pd.DataFrame(data)\n",
        "print(df)"
      ],
      "metadata": {
        "colab": {
          "base_uri": "https://localhost:8080/"
        },
        "id": "ive0ZFzsUNr1",
        "outputId": "9b7817a0-777d-483e-fea1-af9c896114af"
      },
      "execution_count": 2,
      "outputs": [
        {
          "output_type": "stream",
          "name": "stdout",
          "text": [
            "   Order ID   Product  Quantity  Price\n",
            "0       101    Laptop         1  75000\n",
            "1       102     Mouse         5    500\n",
            "2       103  Keyboard         3   1500\n",
            "3       104   Monitor         2  12000\n",
            "4       105       CPU         1  20000\n"
          ]
        }
      ]
    },
    {
      "cell_type": "code",
      "source": [
        "total_sales_per_order = df['Quantity'] * df['Price']\n",
        "df['Total Sales per order'] = total_sales_per_order\n",
        "print(df)"
      ],
      "metadata": {
        "colab": {
          "base_uri": "https://localhost:8080/"
        },
        "id": "jwYaAQL7US34",
        "outputId": "26e9ae4c-3653-42c8-eb54-80c02b33f364"
      },
      "execution_count": 3,
      "outputs": [
        {
          "output_type": "stream",
          "name": "stdout",
          "text": [
            "   Order ID   Product  Quantity  Price  Total Sales per order\n",
            "0       101    Laptop         1  75000                  75000\n",
            "1       102     Mouse         5    500                   2500\n",
            "2       103  Keyboard         3   1500                   4500\n",
            "3       104   Monitor         2  12000                  24000\n",
            "4       105       CPU         1  20000                  20000\n"
          ]
        }
      ]
    },
    {
      "cell_type": "code",
      "source": [
        "high_value_orders = df[df['Total Sales per order'] > 1000]\n",
        "print(high_value_orders)"
      ],
      "metadata": {
        "colab": {
          "base_uri": "https://localhost:8080/"
        },
        "id": "nfi_MVbsUX7K",
        "outputId": "c5d1969c-dcb3-4ee5-fefc-7be7b82da9e6"
      },
      "execution_count": 4,
      "outputs": [
        {
          "output_type": "stream",
          "name": "stdout",
          "text": [
            "   Order ID   Product  Quantity  Price  Total Sales per order\n",
            "0       101    Laptop         1  75000                  75000\n",
            "1       102     Mouse         5    500                   2500\n",
            "2       103  Keyboard         3   1500                   4500\n",
            "3       104   Monitor         2  12000                  24000\n",
            "4       105       CPU         1  20000                  20000\n"
          ]
        }
      ]
    },
    {
      "cell_type": "code",
      "source": [
        "most_sold = df.groupby('Product')['Quantity'].sum().idxmax()\n",
        "print(most_sold)"
      ],
      "metadata": {
        "colab": {
          "base_uri": "https://localhost:8080/"
        },
        "id": "T0w_DjWoUZCq",
        "outputId": "9f13d639-8e18-4089-ebd1-800e5292d91b"
      },
      "execution_count": 5,
      "outputs": [
        {
          "output_type": "stream",
          "name": "stdout",
          "text": [
            "Mouse\n"
          ]
        }
      ]
    },
    {
      "cell_type": "code",
      "source": [
        "df['discount']=df['Total Sales per order']*0.2\n",
        "print(df)"
      ],
      "metadata": {
        "colab": {
          "base_uri": "https://localhost:8080/"
        },
        "id": "pMbseVXQUcTf",
        "outputId": "04610bf4-1ae0-43a2-f881-3648735cfb78"
      },
      "execution_count": 6,
      "outputs": [
        {
          "output_type": "stream",
          "name": "stdout",
          "text": [
            "   Order ID   Product  Quantity  Price  Total Sales per order  discount\n",
            "0       101    Laptop         1  75000                  75000   15000.0\n",
            "1       102     Mouse         5    500                   2500     500.0\n",
            "2       103  Keyboard         3   1500                   4500     900.0\n",
            "3       104   Monitor         2  12000                  24000    4800.0\n",
            "4       105       CPU         1  20000                  20000    4000.0\n"
          ]
        }
      ]
    }
  ]
}